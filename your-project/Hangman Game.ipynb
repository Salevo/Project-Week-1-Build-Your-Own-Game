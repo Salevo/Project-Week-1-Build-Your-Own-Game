{
 "cells": [
  {
   "cell_type": "markdown",
   "metadata": {},
   "source": [
    "# The German Hangman Game\n",
    "Here you will find my awesome code for the ultrahard German Hangman Game."
   ]
  },
  {
   "cell_type": "code",
   "execution_count": null,
   "metadata": {},
   "outputs": [],
   "source": [
    "# START GAME\n",
    "# user input \"name\" > all characters can be accepted\n",
    "# print \"Hi \"name\", are you ready to get owned by German Hangman?\"\n",
    "# wait 3 seconds, start game\n",
    "\n",
    "# CHOOSE RANDOM WORD\n",
    "# write function to get a random word from words.py\n",
    "# convert all words from words.py to upper case \n",
    "# store word in variable \"word\"\n",
    "\n",
    "# GAMEPLAY FUNCTION\n",
    "# set 10 tries (user can guess as much as he wants, but fail only 10 times)\n",
    "# display the length of \"word\" to the user with _ _ _ underscores\n",
    "# Hidden letters are shown as underscores, guessed letters will be unmasked\n",
    "# prompt the user to guess a letter or word (>> how can I make it that the user input can be more than a letter? or is it the default or max len(word)?)\n",
    "    # user input convert to uppercase always\n",
    "# while loop until word is guessed or user runs out of tries\n",
    "    # for loop to replace each _ of the secret word\n",
    "    # letter is in secret word > show letter in secret word, ask for user input again, show remaining tries, print \"Nice try!\"\n",
    "    # letter is not in secret word > -1 try and ask for user input again, show remaining tries, print \"This letter is not in the word, try again!\"\n",
    "# if user runs out of tries (10) and looses:\n",
    "    # secret word is displayed, print \"\"name\" you loose, guess you got owned by German hangman\", start play again function\n",
    "# if user wins or guesses the word right\n",
    "    # word is displayed, print \"\"name\" you win, you are ready to move to Berlin now!\", start play again function\n",
    "     \n",
    "# PLAY AGAIN FUNCTION\n",
    "# print \"Are you ready to play again?\"\n",
    "# enter \"Y\" to start \"N\" if you feel too scared\n",
    "    # \n",
    "    # make sure that only Y and N is possible (not weird other input > error message \" wow you are already failing here\"\n",
    "    # gameplay function starts again\n",
    "\n",
    "# possible problems with user input > error messages:\n",
    "    # not a letter\n",
    "    # same letter twice (show the user which letters he already used?)"
   ]
  }
 ],
 "metadata": {
  "kernelspec": {
   "display_name": "Python 3",
   "language": "python",
   "name": "python3"
  },
  "language_info": {
   "codemirror_mode": {
    "name": "ipython",
    "version": 3
   },
   "file_extension": ".py",
   "mimetype": "text/x-python",
   "name": "python",
   "nbconvert_exporter": "python",
   "pygments_lexer": "ipython3",
   "version": "3.8.5"
  },
  "toc": {
   "base_numbering": 1,
   "nav_menu": {},
   "number_sections": true,
   "sideBar": true,
   "skip_h1_title": false,
   "title_cell": "Table of Contents",
   "title_sidebar": "Contents",
   "toc_cell": false,
   "toc_position": {},
   "toc_section_display": true,
   "toc_window_display": false
  },
  "varInspector": {
   "cols": {
    "lenName": 16,
    "lenType": 16,
    "lenVar": 40
   },
   "kernels_config": {
    "python": {
     "delete_cmd_postfix": "",
     "delete_cmd_prefix": "del ",
     "library": "var_list.py",
     "varRefreshCmd": "print(var_dic_list())"
    },
    "r": {
     "delete_cmd_postfix": ") ",
     "delete_cmd_prefix": "rm(",
     "library": "var_list.r",
     "varRefreshCmd": "cat(var_dic_list()) "
    }
   },
   "types_to_exclude": [
    "module",
    "function",
    "builtin_function_or_method",
    "instance",
    "_Feature"
   ],
   "window_display": false
  }
 },
 "nbformat": 4,
 "nbformat_minor": 4
}
